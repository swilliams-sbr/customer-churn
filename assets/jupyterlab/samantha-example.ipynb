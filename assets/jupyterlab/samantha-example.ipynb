{
 "cells": [
  {
   "cell_type": "code",
   "execution_count": 1,
   "id": "1e7a58eb-cda9-43ec-a084-570eeb3e0a95",
   "metadata": {
    "id": "1286102b-7a0f-4e54-bdb1-042bfe912afa",
    "tags": []
   },
   "outputs": [
    {
     "data": {
      "text/plain": [
       "'Hello, Sarah!'"
      ]
     },
     "execution_count": 1,
     "metadata": {},
     "output_type": "execute_result"
    }
   ],
   "source": [
    "def say_hello(recipient): return 'Hello, {}!'.format(recipient)\n",
    "say_hello('Sarah')"
   ]
  },
  {
   "cell_type": "code",
   "execution_count": null,
   "id": "d5cd77b5-e917-4310-ae30-b2c1c3adf207",
   "metadata": {
    "id": "d5cd77b5-e917-4310-ae30-b2c1c3adf207"
   },
   "outputs": [],
   "source": []
  }
 ],
 "metadata": {
  "kernelspec": {
   "display_name": "Python 3.9",
   "language": "python",
   "name": "python3"
  },
  "language_info": {
   "codemirror_mode": {
    "name": "ipython",
    "version": 3
   },
   "file_extension": ".py",
   "mimetype": "text/x-python",
   "name": "python",
   "nbconvert_exporter": "python",
   "pygments_lexer": "ipython3",
   "version": "3.9.12"
  }
 },
 "nbformat": 4,
 "nbformat_minor": 5
}
