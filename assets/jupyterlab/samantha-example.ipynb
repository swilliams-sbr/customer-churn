{
 "cells": [
  {
   "cell_type": "code",
   "execution_count": 1,
   "id": "7a13ab9b-72b8-41b9-90bd-bb146bf761bb",
   "metadata": {
    "id": "7a13ab9b-72b8-41b9-90bd-bb146bf761bb",
    "tags": []
   },
   "outputs": [
    {
     "data": {
      "text/plain": [
       "'Hello, Sarah!'"
      ]
     },
     "execution_count": 1,
     "metadata": {},
     "output_type": "execute_result"
    }
   ],
   "source": [
    "def say_hello(recipient): return 'Hello, {}!'.format(recipient)\n",
    "\n",
    "say_hello('Sarah')"
   ]
  },
  {
   "cell_type": "code",
   "execution_count": 2,
   "id": "5176e6f4-3fbf-4439-b1b7-0c95581611b4",
   "metadata": {
    "id": "5176e6f4-3fbf-4439-b1b7-0c95581611b4",
    "tags": []
   },
   "outputs": [
    {
     "data": {
      "text/plain": [
       "'Hello, Samantha!'"
      ]
     },
     "execution_count": 2,
     "metadata": {},
     "output_type": "execute_result"
    }
   ],
   "source": [
    "def say_hello(recipient): return 'Hello, {}!'.format(recipient)\n",
    "\n",
    "say_hello('Samantha')"
   ]
  },
  {
   "cell_type": "code",
   "execution_count": null,
   "id": "5d7f9289-efc4-46d8-8247-6b26ab611208",
   "metadata": {
    "id": "5d7f9289-efc4-46d8-8247-6b26ab611208"
   },
   "outputs": [],
   "source": []
  }
 ],
 "metadata": {
  "kernelspec": {
   "display_name": "Python 3.10",
   "language": "python",
   "name": "python3"
  },
  "language_info": {
   "codemirror_mode": {
    "name": "ipython",
    "version": 3
   },
   "file_extension": ".py",
   "mimetype": "text/x-python",
   "name": "python",
   "nbconvert_exporter": "python",
   "pygments_lexer": "ipython3",
   "version": "3.10.13"
  }
 },
 "nbformat": 4,
 "nbformat_minor": 5
}
