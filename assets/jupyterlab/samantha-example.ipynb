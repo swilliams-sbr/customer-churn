{
 "cells": [
  {
   "cell_type": "code",
   "execution_count": 1,
   "id": "2df5459d-5247-4295-843d-0a5df530cc77",
   "metadata": {
    "id": "2df5459d-5247-4295-843d-0a5df530cc77",
    "tags": []
   },
   "outputs": [
    {
     "data": {
      "text/plain": [
       "'Hello, Sarah!'"
      ]
     },
     "execution_count": 1,
     "metadata": {},
     "output_type": "execute_result"
    }
   ],
   "source": [
    "def say_hello(recipient): return 'Hello, {}!'.format(recipient)\n",
    "\n",
    "say_hello('Sarah')"
   ]
  },
  {
   "cell_type": "code",
   "execution_count": 3,
   "id": "e5d0e82a-7c3e-4ffd-ae02-352e48c52d93",
   "metadata": {
    "id": "e5d0e82a-7c3e-4ffd-ae02-352e48c52d93",
    "tags": []
   },
   "outputs": [
    {
     "data": {
      "text/plain": [
       "'Hello, Samantha!'"
      ]
     },
     "execution_count": 3,
     "metadata": {},
     "output_type": "execute_result"
    }
   ],
   "source": [
    "def say_hello(recipient): return 'Hello, {}!'.format(recipient)\n",
    "\n",
    "say_hello('Samantha')"
   ]
  },
  {
   "cell_type": "code",
   "execution_count": null,
   "id": "75daaf5d-7511-4b24-b926-4d28e0c54aba",
   "metadata": {
    "id": "75daaf5d-7511-4b24-b926-4d28e0c54aba"
   },
   "outputs": [],
   "source": []
  }
 ],
 "metadata": {
  "kernelspec": {
   "display_name": "Python 3.10",
   "language": "python",
   "name": "python3"
  },
  "language_info": {
   "codemirror_mode": {
    "name": "ipython",
    "version": 3
   },
   "file_extension": ".py",
   "mimetype": "text/x-python",
   "name": "python",
   "nbconvert_exporter": "python",
   "pygments_lexer": "ipython3",
   "version": "3.10.13"
  }
 },
 "nbformat": 4,
 "nbformat_minor": 5
}
