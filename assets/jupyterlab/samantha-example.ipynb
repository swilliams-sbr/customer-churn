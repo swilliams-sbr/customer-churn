{
 "cells": [
  {
   "cell_type": "code",
   "execution_count": null,
   "id": "7a13ab9b-72b8-41b9-90bd-bb146bf761bb",
   "metadata": {
    "id": "4f65654a-7d4a-4dee-9d8d-e4bc2df275a9",
    "tags": []
   },
   "outputs": [],
   "source": [
    "def say_hello(recipient): return 'Hello, {}!'.format(recipient)\n",
    "\n",
    "say_hello('Sarah')"
   ]
  },
  {
   "cell_type": "code",
   "execution_count": 1,
   "id": "14371f86-d0f4-494c-bd32-4a804ac4ceb3",
   "metadata": {
    "id": "14371f86-d0f4-494c-bd32-4a804ac4ceb3",
    "tags": []
   },
   "outputs": [
    {
     "data": {
      "text/plain": [
       "'Hello, Samantha!'"
      ]
     },
     "execution_count": 1,
     "metadata": {},
     "output_type": "execute_result"
    }
   ],
   "source": [
    "def say_hello(recipient): return 'Hello, {}!'.format(recipient)\n",
    "\n",
    "say_hello('Samantha')"
   ]
  },
  {
   "cell_type": "code",
   "execution_count": null,
   "id": "5176e6f4-3fbf-4439-b1b7-0c95581611b4",
   "metadata": {
    "id": "5176e6f4-3fbf-4439-b1b7-0c95581611b4"
   },
   "outputs": [],
   "source": []
  }
 ],
 "metadata": {
  "kernelspec": {
   "display_name": "Python 3.10",
   "language": "python",
   "name": "python3"
  },
  "language_info": {
   "codemirror_mode": {
    "name": "ipython",
    "version": 3
   },
   "file_extension": ".py",
   "mimetype": "text/x-python",
   "name": "python",
   "nbconvert_exporter": "python",
   "pygments_lexer": "ipython3",
   "version": "3.10.13"
  }
 },
 "nbformat": 4,
 "nbformat_minor": 5
}
