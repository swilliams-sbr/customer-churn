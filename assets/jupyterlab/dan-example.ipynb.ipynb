{
 "cells": [
  {
   "cell_type": "code",
   "execution_count": 1,
   "id": "8fb0e29b-5e28-4806-8a63-48c0f14c8ff9",
   "metadata": {
    "id": "ad38fdc2-a1a0-495d-9972-f38182070930",
    "tags": []
   },
   "outputs": [
    {
     "data": {
      "text/plain": [
       "'Hello, Amy!'"
      ]
     },
     "execution_count": 1,
     "metadata": {},
     "output_type": "execute_result"
    }
   ],
   "source": [
    "def say_hello(recipient): return 'Hello, {}!'.format(recipient)\n",
    "say_hello('Amy')"
   ]
  },
  {
   "cell_type": "code",
   "execution_count": 1,
   "id": "3cd18c90-ad94-4d98-83f3-bfaeb3e4974f",
   "metadata": {
    "id": "3cd18c90-ad94-4d98-83f3-bfaeb3e4974f",
    "tags": []
   },
   "outputs": [
    {
     "data": {
      "text/plain": [
       "'Hello, Dan!'"
      ]
     },
     "execution_count": 1,
     "metadata": {},
     "output_type": "execute_result"
    }
   ],
   "source": [
    "def say_hello(recipient): return 'Hello, {}!'.format(recipient)\n",
    "say_hello('Dan')"
   ]
  },
  {
   "cell_type": "code",
   "execution_count": null,
   "id": "a5f800f2-cadc-4120-b14b-a9f0b9a5d347",
   "metadata": {
    "id": "a5f800f2-cadc-4120-b14b-a9f0b9a5d347"
   },
   "outputs": [],
   "source": []
  }
 ],
 "metadata": {
  "kernelspec": {
   "display_name": "Python 3.10",
   "language": "python",
   "name": "python3"
  },
  "language_info": {
   "codemirror_mode": {
    "name": "ipython",
    "version": 3
   },
   "file_extension": ".py",
   "mimetype": "text/x-python",
   "name": "python",
   "nbconvert_exporter": "python",
   "pygments_lexer": "ipython3",
   "version": "3.10.13"
  }
 },
 "nbformat": 4,
 "nbformat_minor": 5
}
