{
 "cells": [
  {
   "cell_type": "code",
   "execution_count": 1,
   "id": "9580cc56-37ce-4b29-ba93-f151df5d3608",
   "metadata": {
    "id": "0a7d4698-8bb9-4769-8c7d-e79fbccaf1a6"
   },
   "outputs": [
    {
     "name": "stdout",
     "output_type": "stream",
     "text": [
      "a\n"
     ]
    }
   ],
   "source": [
    "print('a')"
   ]
  },
  {
   "cell_type": "code",
   "execution_count": null,
   "id": "b753dff7-bc30-4d03-bc9d-0db25c909b71",
   "metadata": {
    "id": "b753dff7-bc30-4d03-bc9d-0db25c909b71"
   },
   "outputs": [],
   "source": []
  }
 ],
 "metadata": {
  "kernelspec": {
   "display_name": "Python 3.11",
   "language": "python",
   "name": "python3"
  },
  "language_info": {
   "codemirror_mode": {
    "name": "ipython",
    "version": 3
   },
   "file_extension": ".py",
   "mimetype": "text/x-python",
   "name": "python",
   "nbconvert_exporter": "python",
   "pygments_lexer": "ipython3",
   "version": "3.11.9"
  }
 },
 "nbformat": 4,
 "nbformat_minor": 5
}
