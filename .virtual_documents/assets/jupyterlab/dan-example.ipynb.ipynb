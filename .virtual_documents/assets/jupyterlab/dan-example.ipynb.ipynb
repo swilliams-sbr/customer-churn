def say_hello(recipient): return 'Hello, {}!'.format(recipient)
say_hello('Amy')


def say_hello(recipient): return 'Hello, {}!'.format(recipient)
say_hello('Dan')



